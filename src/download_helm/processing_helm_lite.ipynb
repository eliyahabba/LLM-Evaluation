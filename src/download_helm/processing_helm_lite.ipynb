{
 "cells": [
  {
   "cell_type": "code",
   "execution_count": 1,
   "id": "47c7d2d0",
   "metadata": {},
   "outputs": [],
   "source": [
    "import json\n",
    "import os\n",
    "import pickle\n",
    "import numpy as np\n",
    "from pathlib import Path"
   ]
  },
  {
   "cell_type": "code",
   "execution_count": 2,
   "id": "ffcd794b",
   "metadata": {},
   "outputs": [],
   "source": [
    "path = '/llmthonskdir/felipe/helm/lite/v1.0.0'\n",
    "\n",
    "helm_lite_scenarios = {'commonsense:dataset=openbookqa,method=multiple_choice_joint,':['commonsense:dataset=openbookqa,method=multiple_choice_joint,'],\n",
    "                       'gsm:':['gsm:'],\n",
    "                       'med_qa:':['med_qa:'],\n",
    "                       'legalbench':['legalbench:subset=abercrombie,',\n",
    "                                     'legalbench:subset=corporate_lobbying,',\n",
    "                                     'legalbench:subset=function_of_decision_section,',\n",
    "                                     'legalbench:subset=proa,',\n",
    "                                     'legalbench:subset=international_citizenship_questions,'],\n",
    "                      'math':['math:subject=algebra,level=1,use_official_examples=False,use_chain_of_thought=True,',\n",
    "                              'math:subject=counting_and_probability,level=1,use_official_examples=False,use_chain_of_thought=True,',\n",
    "                              'math:subject=geometry,level=1,use_official_examples=False,use_chain_of_thought=True,',\n",
    "                              'math:subject=intermediate_algebra,level=1,use_official_examples=False,use_chain_of_thought=True,',\n",
    "                              'math:subject=number_theory,level=1,use_official_examples=False,use_chain_of_thought=True,',\n",
    "                              'math:subject=prealgebra,level=1,use_official_examples=False,use_chain_of_thought=True,',\n",
    "                              'math:subject=precalculus,level=1,use_official_examples=False,use_chain_of_thought=True,',],\n",
    "                      'mmlu':['mmlu:subject=abstract_algebra,method=multiple_choice_joint,',\n",
    "                              'mmlu:subject=college_chemistry,method=multiple_choice_joint,',\n",
    "                              'mmlu:subject=computer_security,method=multiple_choice_joint,',\n",
    "                              'mmlu:subject=econometrics,method=multiple_choice_joint,',\n",
    "                              'mmlu:subject=us_foreign_policy,method=multiple_choice_joint,'],\n",
    "                      'narrative_qa:':['narrative_qa:'],\n",
    "                      'natural_qa:mode=closedbook,':['natural_qa:mode=closedbook,'],\n",
    "                      'natural_qa:mode=openbook_longans,':['natural_qa:mode=openbook_longans,'],\n",
    "                      'wmt_14':['wmt_14:language_pair=cs-en,',\n",
    "                                'wmt_14:language_pair=de-en,',\n",
    "                                'wmt_14:language_pair=fr-en,',\n",
    "                                'wmt_14:language_pair=hi-en,',\n",
    "                                'wmt_14:language_pair=ru-en,']}"
   ]
  },
  {
   "cell_type": "code",
   "execution_count": 3,
   "id": "143e26c1",
   "metadata": {
    "scrolled": true
   },
   "outputs": [],
   "source": [
    "directory = Path(path)\n",
    "runs = [item.name for item in directory.iterdir() if item.is_dir()]"
   ]
  },
  {
   "cell_type": "code",
   "execution_count": 4,
   "id": "486353b1",
   "metadata": {},
   "outputs": [],
   "source": [
    "data2 = {}\n",
    "\n",
    "for run in runs:\n",
    "    #\n",
    "    with open(path+f'/{run}/instances.json') as f:\n",
    "        data3 = json.load(f)\n",
    "    valid_ids = [d['id'] for d in data3 if d['split']=='test']\n",
    "\n",
    "    #\n",
    "    with open(path+f'/{run}/display_predictions.json') as f:\n",
    "        data3 = json.load(f)\n",
    "        \n",
    "    #print(run,list(data3[0]['stats'].keys()))\n",
    "    metric = list(data3[0]['stats'].keys())[-1]\n",
    "    \n",
    "    #scenario = run[:run.find(':')]\n",
    "    subscenario = run[:run.find('model=')]\n",
    "    model = run[run.find('model=')+6:]\n",
    "    \n",
    "    if subscenario not in list(data2.keys()):\n",
    "        data2[subscenario] = {}\n",
    "\n",
    "    if np.sum([s in subscenario for s in ['med_qa', 'mmlu', 'narrative_qa', 'wmt_14']])>0:\n",
    "        data2[subscenario][model] = [d['stats'][metric] for d in data3 if d['instance_id'] in valid_ids]\n",
    "    else:\n",
    "        data2[subscenario][model] = [d['stats'][metric] for d in data3]\n",
    "    #data2[subscenario]['metric'] = metric"
   ]
  },
  {
   "cell_type": "code",
   "execution_count": 5,
   "id": "4e665b58",
   "metadata": {},
   "outputs": [],
   "source": [
    "data = {}\n",
    "data['data'] = {}\n",
    "data['models'] = list(np.unique([list(data2[subscenario].keys()) for subscenario in data2.keys()]))\n",
    "\n",
    "for sub in list(data2.keys()):\n",
    "    data['data'][sub] = {}\n",
    "    data['data'][sub]['correctness'] = np.array([data2[sub][model] for model in data['models']]).T"
   ]
  },
  {
   "cell_type": "code",
   "execution_count": 6,
   "id": "1babe1c2",
   "metadata": {},
   "outputs": [],
   "source": [
    "with open('helm_lite.pickle', 'wb') as handle:\n",
    "    pickle.dump(data, handle, protocol=pickle.HIGHEST_PROTOCOL)"
   ]
  },
  {
   "cell_type": "code",
   "execution_count": 7,
   "id": "d1c65a17",
   "metadata": {},
   "outputs": [
    {
     "name": "stdout",
     "output_type": "stream",
     "text": [
      "commonsense:dataset=openbookqa,method=multiple_choice_joint,\n",
      "1\n",
      "[0.26  0.272 0.284 0.286 0.398 0.544 0.614 0.634 0.662 0.688 0.754 0.774\n",
      " 0.776 0.796 0.8   0.828 0.838 0.838 0.844 0.862 0.868 0.872 0.878 0.878\n",
      " 0.908 0.92  0.938 0.938 0.95  0.96 ]\n",
      "\n",
      "\n",
      "gsm:\n",
      "1\n",
      "[0.028 0.055 0.075 0.137 0.149 0.154 0.159 0.239 0.266 0.267 0.375 0.377\n",
      " 0.452 0.479 0.489 0.501 0.567 0.583 0.604 0.61  0.615 0.622 0.648 0.668\n",
      " 0.721 0.735 0.784 0.831 0.831 0.932]\n",
      "\n",
      "\n",
      "med_qa:\n",
      "1\n",
      "[0.254 0.26  0.276 0.276 0.312 0.39  0.392 0.392 0.419 0.431 0.445 0.497\n",
      " 0.507 0.525 0.525 0.531 0.547 0.559 0.598 0.618 0.618 0.622 0.644 0.652\n",
      " 0.652 0.656 0.684 0.684 0.815 0.817]\n",
      "\n",
      "\n",
      "legalbench\n",
      "5\n",
      "[0.332 0.346 0.397 0.421 0.442 0.452 0.468 0.48  0.502 0.519 0.528 0.533\n",
      " 0.578 0.58  0.58  0.586 0.591 0.618 0.622 0.626 0.629 0.63  0.643 0.643\n",
      " 0.644 0.645 0.673 0.677 0.709 0.713]\n",
      "\n",
      "\n",
      "math\n",
      "7\n",
      "[0.026 0.04  0.044 0.064 0.078 0.097 0.098 0.102 0.103 0.126 0.128 0.236\n",
      " 0.257 0.297 0.323 0.375 0.421 0.428 0.449 0.494 0.499 0.54  0.58  0.603\n",
      " 0.632 0.667 0.674 0.723 0.802 0.857]\n",
      "\n",
      "\n",
      "mmlu\n",
      "5\n",
      "[0.243 0.248 0.288 0.316 0.386 0.425 0.471 0.483 0.505 0.507 0.525 0.53\n",
      " 0.555 0.568 0.58  0.584 0.584 0.608 0.614 0.621 0.631 0.631 0.639 0.643\n",
      " 0.649 0.65  0.699 0.702 0.702 0.735]\n",
      "\n",
      "\n",
      "narrative_qa:\n",
      "1\n",
      "[0.583 0.616 0.621 0.629 0.633 0.655 0.671 0.677 0.684 0.686 0.702 0.706\n",
      " 0.716 0.718 0.718 0.719 0.723 0.727 0.728 0.731 0.741 0.743 0.744 0.749\n",
      " 0.752 0.755 0.763 0.767 0.768 0.782]\n",
      "\n",
      "\n",
      "natural_qa:mode=closedbook,\n",
      "1\n",
      "[0.195 0.197 0.253 0.285 0.299 0.31  0.333 0.335 0.343 0.35  0.367 0.371\n",
      " 0.375 0.385 0.39  0.391 0.392 0.394 0.407 0.409 0.413 0.427 0.428 0.428\n",
      " 0.433 0.435 0.435 0.443 0.457 0.46 ]\n",
      "\n",
      "\n",
      "natural_qa:mode=openbook_longans,\n",
      "1\n",
      "[0.577 0.58  0.611 0.611 0.612 0.627 0.64  0.65  0.656 0.67  0.672 0.674\n",
      " 0.674 0.676 0.678 0.685 0.686 0.687 0.699 0.699 0.71  0.731 0.748 0.752\n",
      " 0.763 0.77  0.775 0.777 0.79  0.813]\n",
      "\n",
      "\n",
      "wmt_14\n",
      "5\n",
      "[0.023 0.066 0.083 0.088 0.094 0.102 0.102 0.114 0.117 0.144 0.16  0.162\n",
      " 0.167 0.172 0.174 0.187 0.189 0.19  0.191 0.194 0.196 0.204 0.205 0.211\n",
      " 0.219 0.219 0.239 0.241 0.26  0.262]\n",
      "\n",
      "\n"
     ]
    }
   ],
   "source": [
    "for scenario in helm_lite_scenarios.keys():\n",
    "    print(scenario)\n",
    "    print(len(helm_lite_scenarios[scenario]))\n",
    "    print(np.round(np.sort(np.vstack([data['data'][sub]['correctness'].mean(axis=0) for sub in helm_lite_scenarios[scenario]]).mean(axis=0)),3))\n",
    "    #print(np.round(np.sort(np.vstack([data['data'][sub]['correctness'] for sub in helm_lite_scenarios[scenario]]).mean(axis=0)),3))\n",
    "    print('\\n')"
   ]
  },
  {
   "cell_type": "code",
   "execution_count": null,
   "id": "9a63aa83",
   "metadata": {},
   "outputs": [],
   "source": []
  },
  {
   "cell_type": "code",
   "execution_count": null,
   "id": "42da84b5",
   "metadata": {},
   "outputs": [],
   "source": []
  },
  {
   "cell_type": "code",
   "execution_count": null,
   "id": "6b1e50ec",
   "metadata": {},
   "outputs": [],
   "source": []
  }
 ],
 "metadata": {
  "kernelspec": {
   "display_name": "Python 3 (ipykernel)",
   "language": "python",
   "name": "python3"
  },
  "language_info": {
   "codemirror_mode": {
    "name": "ipython",
    "version": 3
   },
   "file_extension": ".py",
   "mimetype": "text/x-python",
   "name": "python",
   "nbconvert_exporter": "python",
   "pygments_lexer": "ipython3",
   "version": "3.11.5"
  }
 },
 "nbformat": 4,
 "nbformat_minor": 5
}
